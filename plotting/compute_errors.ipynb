{
 "cells": [
  {
   "cell_type": "code",
   "execution_count": 1,
   "metadata": {
    "tags": []
   },
   "outputs": [
    {
     "name": "stderr",
     "output_type": "stream",
     "text": [
      "ERROR 1: PROJ: proj_create_from_database: Open of /nesi/project/niwa00018/queenle/ml_env_v2/share/proj failed\n"
     ]
    }
   ],
   "source": [
    "import xarray as xr\n",
    "import pandas as pd\n",
    "import numpy as np\n",
    "import matplotlib.pyplot as plt\n",
    "import cartopy.crs as ccrs\n",
    "import glob\n",
    "import os\n",
    "import matplotlib.patches as mpatches\n",
    "from sklearn.metrics import mean_squared_error\n"
   ]
  },
  {
   "cell_type": "code",
   "execution_count": 2,
   "metadata": {
    "tags": []
   },
   "outputs": [],
   "source": [
    "static_ds = xr.open_dataset('/nesi/project/niwa00018/ML_downscaling_CCAM/training_GAN/ancil_fields/ERA5_eval_ccam_12km.198110_NZ_Invariant.nc')\n",
    "land_mask = static_ds.sftlf\n",
    "\n",
    "# directories\n",
    "metric_dir = '/nesi/project/niwa00018/queenle/ml_emulator_experiment_application/ml_downscaled_output/metrics/'\n",
    "output_dir = '/nesi/project/niwa00018/queenle/ml_emulator_experiment_application/ml_downscaled_output/'\n",
    "CCAM_dir = '/nesi/project/niwa00018/ML_downscaling_CCAM/multi-variate-gan/inputs/'\n",
    "\n",
    "# TEMPORAL TRAINING EXPERIMENTS\n",
    "temporal_experiments = {'pr':['pr_ACCESS-CM2_5','pr_ACCESS-CM2_10','pr_ACCESS-CM2_20','pr_ACCESS-CM2_30','pr_ACCESS-CM2_40',\n",
    "                              'pr_ACCESS-CM2_50','pr_ACCESS-CM2_60','pr_ACCESS-CM2_70','pr_ACCESS-CM2_80','pr_ACCESS-CM2_90',\n",
    "                              'pr_ACCESS-CM2_100','pr_ACCESS-CM2_1961-1980','pr_ACCESS-CM2_2015-2034','pr_ACCESS-CM2_2080-2099']}\n",
    "        \n",
    "\n",
    "metrics = {'tasmax':['annual_mean','TXx'],\n",
    "           'tasmin':['annual_mean','TXn'],\n",
    "           'sfcwind':['annual_mean'],\n",
    "           'pr':['annual_mean','rx1d','DJF_mean','JJA_mean']}\n",
    "\n",
    "base_period = ['1985','2004']\n",
    "future_period = ['2080','2099']"
   ]
  },
  {
   "cell_type": "code",
   "execution_count": 3,
   "metadata": {
    "tags": []
   },
   "outputs": [],
   "source": [
    "'''\n",
    "HELPER FUNCTIONS\n",
    "'''\n",
    "\n",
    "def get_CC_signal(ds,var,metric):\n",
    "    \n",
    "    base = ds[f'{metric}_{base_period[0]}-{base_period[1]}']\n",
    "    future = ds[f'{metric}_{future_period[0]}-{future_period[1]}']\n",
    "    \n",
    "    if var != 'pr':\n",
    "        CC_signal = future - base\n",
    "    else:\n",
    "        CC_signal = ((future - base)/base) * 100\n",
    "        \n",
    "    return(CC_signal)\n",
    "    \n",
    "    \n",
    "\n",
    "def get_subregion_rmse(ccam,emulator,region):\n",
    "    if region == 'full':\n",
    "        rmse = (mean_squared_error(ccam.values.flatten(),emulator.values.flatten()))**(1/2)\n",
    "        \n",
    "    elif region == 'land':\n",
    "        ccam = ccam.where(land_mask>0).values.flatten()\n",
    "        ccam = ccam[~np.isnan(ccam)]\n",
    "        emulator = emulator.where(land_mask>0).values.flatten()\n",
    "        emulator = emulator[~np.isnan(emulator)]\n",
    "        \n",
    "        rmse = (mean_squared_error(ccam,emulator))**(1/2)\n",
    "        \n",
    "    elif region == 'ocean':\n",
    "        ccam = ccam.where(land_mask==0).values.flatten()\n",
    "        ccam = ccam[~np.isnan(ccam)]\n",
    "        emulator = emulator.where(land_mask==0).values.flatten()\n",
    "        emulator = emulator[~np.isnan(emulator)]\n",
    "        \n",
    "        rmse = (mean_squared_error(ccam,emulator))**(1/2)\n",
    "        \n",
    "    return(rmse)\n",
    "\n",
    "\n",
    "def write_to_dict(result_dict,full,land,ocean,gcm,emulator,framework,period_name,var,metric,error_type,gan_flag,sampling):\n",
    "    \n",
    "    result_dict['whole region'].append(full)\n",
    "    result_dict['land'].append(land)\n",
    "    result_dict['ocean'].append(ocean)\n",
    "    result_dict['GCM'].append(gcm)\n",
    "    result_dict['emulator'].append(emulator)\n",
    "    result_dict['framework'].append(framework)\n",
    "    result_dict['error period'].append(period_name)\n",
    "    result_dict['var'].append(var)\n",
    "    result_dict['metric'].append(metric)\n",
    "    result_dict['error type'].append(error_type)\n",
    "    result_dict['model_type'].append(gan_flag)\n",
    "    result_dict['sampling_n'].append(sampling)\n"
   ]
  },
  {
   "cell_type": "code",
   "execution_count": 4,
   "metadata": {
    "tags": []
   },
   "outputs": [],
   "source": [
    "\n",
    "def add_errors(result_dict,gcm,error_type,emulator,CCAM_metrics,ml_metrics,var,metric,period,gan_flag,sampling):\n",
    "    \n",
    "    if period == 'CC_signal':\n",
    "        CCAM_signal = get_CC_signal(CCAM_metrics,var,metric)\n",
    "        period_name = period\n",
    "    elif period == 'base':\n",
    "        CCAM_signal = CCAM_metrics[f'{metric}_{base_period[0]}-{base_period[1]}']\n",
    "        period_name = f'{base_period[0]}_{base_period[1]}'\n",
    "    elif period == 'future':\n",
    "        CCAM_signal = CCAM_metrics[f'{metric}_{future_period[0]}-{future_period[1]}']\n",
    "        period_name = f'{future_period[0]}_{future_period[1]}'\n",
    "        \n",
    "    for framework in ['perfect','imperfect']:\n",
    "        if period == 'CC_signal':\n",
    "            ml_signal = get_CC_signal(ml_metrics[framework],var,metric)\n",
    "        elif period == 'base':\n",
    "            ml_signal = ml_metrics[framework][f'{metric}_{base_period[0]}-{base_period[1]}']\n",
    "        elif period == 'future':\n",
    "            ml_signal = ml_metrics[framework][f'{metric}_{future_period[0]}-{future_period[1]}']\n",
    "\n",
    "        if error_type == 'RMSE':\n",
    "            full = get_subregion_rmse(CCAM_signal,ml_signal,'full')\n",
    "            land = get_subregion_rmse(CCAM_signal,ml_signal,'land')\n",
    "            ocean = get_subregion_rmse(CCAM_signal,ml_signal,'ocean')\n",
    "            \n",
    "        else:\n",
    "            if error_type == 'MAE':\n",
    "                error = abs(ml_signal-CCAM_signal)\n",
    "                \n",
    "            if error_type == 'MAPE':\n",
    "                error = abs(((ml_signal-CCAM_signal)/CCAM_signal)*100)\n",
    "            \n",
    "            full = error.mean().data.tolist()\n",
    "            land = error.where(land_mask>0).mean().data.tolist()\n",
    "            ocean = error.where(land_mask==0).mean().data.tolist()\n",
    "\n",
    "        write_to_dict(result_dict,full,land,ocean,gcm,emulator,framework,period_name,var,metric,error_type,gan_flag,sampling)\n",
    "        \n",
    "        "
   ]
  },
  {
   "cell_type": "code",
   "execution_count": null,
   "metadata": {},
   "outputs": [],
   "source": []
  },
  {
   "cell_type": "code",
   "execution_count": 5,
   "metadata": {},
   "outputs": [],
   "source": [
    "'''\n",
    "COMPUTE ERRORS FOR TEMPORAL EXPERIMENTS\n",
    "'''\n",
    "\n",
    "result_dict = {'GCM':[],'emulator':[],'framework':[],'error period':[],'var':[],'metric':[],'error type':[],\\\n",
    "               'whole region':[],'land':[],'ocean':[],'sampling_n':[],'model_type':[]}\n",
    "\n",
    "epoch = 215\n",
    "\n",
    "for i,gan_flag in enumerate(['GAN','unet']):\n",
    "    \n",
    "    for j,gcm in enumerate(['ACCESS-CM2','NorESM2-MM','EC-Earth3']):\n",
    "\n",
    "        for var in ['pr']:\n",
    "            \n",
    "            for k,emulator in enumerate(temporal_experiments[var]):\n",
    "                \n",
    "                sampling = emulator.split('_')[-1]\n",
    "\n",
    "                CCAM_metrics = xr.open_dataset(f'{metric_dir}/{gcm}/CCAM/{gcm}_{var}_metrics.nc')\n",
    "\n",
    "                ml_metrics = {}\n",
    "                for framework in ['perfect','imperfect']:\n",
    "                    ml_metrics[framework] = xr.open_dataset(f'{metric_dir}/{gcm}/{emulator}/{gcm}_{framework}_{var}_metrics_{gan_flag}_epoch_{epoch}.nc')\n",
    "                    \n",
    "                for metric in metrics[var]:\n",
    "\n",
    "                    for error_type in ['MAE','MAPE','RMSE']:\n",
    "                        add_errors(result_dict,gcm,error_type,emulator,CCAM_metrics,ml_metrics,var,metric,'CC_signal',gan_flag,sampling)\n",
    "                        add_errors(result_dict,gcm,error_type,emulator,CCAM_metrics,ml_metrics,var,metric,'base',gan_flag,sampling)\n",
    "                        add_errors(result_dict,gcm,error_type,emulator,CCAM_metrics,ml_metrics,var,metric,'future',gan_flag,sampling)\n",
    "\n",
    "            \n",
    "error_df = pd.DataFrame.from_dict(result_dict)\n",
    "\n"
   ]
  },
  {
   "cell_type": "code",
   "execution_count": 7,
   "metadata": {},
   "outputs": [],
   "source": [
    "error_df.to_csv(f'temporal_exeriment_errors_epoch_{epoch}.csv')\n"
   ]
  }
 ],
 "metadata": {
  "kernelspec": {
   "display_name": "jupyter_env",
   "language": "python",
   "name": "nellys_env"
  },
  "language_info": {
   "codemirror_mode": {
    "name": "ipython",
    "version": 3
   },
   "file_extension": ".py",
   "mimetype": "text/x-python",
   "name": "python",
   "nbconvert_exporter": "python",
   "pygments_lexer": "ipython3",
   "version": "3.8.18"
  }
 },
 "nbformat": 4,
 "nbformat_minor": 4
}
