{
 "cells": [
  {
   "cell_type": "code",
   "execution_count": 1,
   "metadata": {},
   "outputs": [],
   "source": [
    "import matplotlib.pyplot as plt\n",
    "import numpy as np\n",
    "import pandas as pd\n",
    "import xarray as xr\n",
    "import random"
   ]
  },
  {
   "cell_type": "code",
   "execution_count": 49,
   "metadata": {
    "tags": []
   },
   "outputs": [
    {
     "data": {
      "text/plain": [
       "'\\nfor sample_n in years_df:\\n    print(sample_n)\\n\\n    selected_years = years_df[sample_n].values\\n    selected_years = selected_years[~np.isnan(selected_years)]\\n    selected_years = [int(v) for v in selected_years]\\n\\n    unselected_years = [val for val in years if val not in selected_years]\\n\\n    print(len(selected_years))\\n    print(len(unselected_years))\\n    \\n    print()\\n'"
      ]
     },
     "execution_count": 49,
     "metadata": {},
     "output_type": "execute_result"
    }
   ],
   "source": [
    "'''\n",
    "Do stratified random selection of year indices for increasing increments of sample sizes \n",
    "while retaining indices of previous sampling. \n",
    "'''\n",
    "\n",
    "# LOAD EXAMPLE FILE\n",
    "example = xr.open_dataset('/nesi/project/niwa00018/ML_downscaling_CCAM/multi-variate-gan/inputs/predictor_fields/predictor_fields_hist_ssp370_merged_updated.nc')\n",
    "\n",
    "years = np.unique(example.time.dt.year)\n",
    "\n",
    "def stratified_sampling(array,sampling):\n",
    "\n",
    "    selected_years = []\n",
    "    for ar in np.array_split(np.array(array),sampling):\n",
    "\n",
    "        selected_years.append(random.sample(list(ar),1)[0])\n",
    "        \n",
    "    return(selected_years)\n",
    "\n",
    "\n",
    "# DO SELECTION\n",
    "increments = [5,10,20,30,40,50,60,70,80,90,100,110,120,130,140]\n",
    "\n",
    "years_left = years\n",
    "samplings = {}\n",
    "\n",
    "previous_inc = 0\n",
    "previous_years = []\n",
    "for inc in increments:\n",
    "    sample_n = inc - previous_inc\n",
    "    \n",
    "    selected_years = stratified_sampling(years_left,sample_n)\n",
    "    samplings[inc] = previous_years + selected_years\n",
    "\n",
    "    \n",
    "    years_left = [val for val in years if val not in samplings[inc]]\n",
    "    \n",
    "    previous_inc = inc\n",
    "    previous_years = samplings[inc]\n",
    "\n",
    "# SAVE YEAR SAMPLINGS\n",
    "\n",
    "years_df = pd.DataFrame({sample_n:pd.Series(years) for sample_n,years in samplings.items()})\n"
   ]
  },
  {
   "cell_type": "code",
   "execution_count": 60,
   "metadata": {},
   "outputs": [],
   "source": [
    "'''\n",
    "DO NOT OVERRIDE TEMPORAL SAMPLING FILE\n",
    "'''\n",
    "\n",
    "#years_df.to_csv('temporal_samplings_2.csv',index=False)\n"
   ]
  },
  {
   "cell_type": "code",
   "execution_count": null,
   "metadata": {},
   "outputs": [],
   "source": []
  }
 ],
 "metadata": {
  "kernelspec": {
   "display_name": "jupyter_env",
   "language": "python",
   "name": "nellys_env"
  },
  "language_info": {
   "codemirror_mode": {
    "name": "ipython",
    "version": 3
   },
   "file_extension": ".py",
   "mimetype": "text/x-python",
   "name": "python",
   "nbconvert_exporter": "python",
   "pygments_lexer": "ipython3",
   "version": "3.8.18"
  }
 },
 "nbformat": 4,
 "nbformat_minor": 4
}
